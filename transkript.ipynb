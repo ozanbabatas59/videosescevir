{
  "nbformat": 4,
  "nbformat_minor": 0,
  "metadata": {
    "colab": {
      "provenance": []
    },
    "kernelspec": {
      "name": "python3",
      "display_name": "Python 3"
    },
    "language_info": {
      "name": "python"
    }
  },
  "cells": [
    {
      "cell_type": "markdown",
      "source": [
        "Kurulum Kısmı"
      ],
      "metadata": {
        "id": "Cvji_bEblmrh"
      }
    },
    {
      "cell_type": "code",
      "execution_count": null,
      "metadata": {
        "id": "2zcxwHLck0hX"
      },
      "outputs": [],
      "source": [
        "!pip install assemblyai;"
      ]
    },
    {
      "cell_type": "markdown",
      "source": [
        "Lütfen mp3 mp4 veya wav yükleyin. daha sonra çalıştırdığınzda çıktısı verir. api key olmadan çalışmaz. Sesi metne çevirme kısmı"
      ],
      "metadata": {
        "id": "FT-M7Vrnlrxu"
      }
    },
    {
      "cell_type": "code",
      "source": [
        "import assemblyai as aai\n",
        "\n",
        "aai.settings.api_key = \"YOUR_KEY_HERE\"\n",
        "\n",
        "audio_url = \"dosyaadi.mp3\"\n",
        "\n",
        "transcriber = aai.Transcriber()\n",
        "\n",
        "transcript = transcriber.transcribe(audio_url)\n",
        "\n",
        "print(transcript.text)"
      ],
      "metadata": {
        "id": "WWxfK8tllraq"
      },
      "execution_count": null,
      "outputs": []
    },
    {
      "cell_type": "code",
      "source": [
        "print(transcript.words)"
      ],
      "metadata": {
        "id": "2PdxPhI3l0b-"
      },
      "execution_count": null,
      "outputs": []
    },
    {
      "cell_type": "code",
      "source": [
        "konu = transcript.get_sentences()\n",
        "for yazdir in konu:\n",
        "  print(yazdir)"
      ],
      "metadata": {
        "id": "c2yBWAuwm4Df"
      },
      "execution_count": null,
      "outputs": []
    },
    {
      "cell_type": "code",
      "source": [
        "paragraf = transcript.get_paragraphs()\n",
        "for psaydir in paragraf:\n",
        "  print(psaydir.text)"
      ],
      "metadata": {
        "id": "0SxGpFdrnGCh"
      },
      "execution_count": null,
      "outputs": []
    },
    {
      "cell_type": "markdown",
      "source": [
        "Özetleme çalışması"
      ],
      "metadata": {
        "id": "DrCncts4ngMs"
      }
    },
    {
      "cell_type": "code",
      "source": [
        "import assemblyai as aai\n",
        "\n",
        "aai.settings.api_key = \"YOUR_KEY_HERE\"\n",
        "\n",
        "audio_url = \"dosyaadi.mp3\"\n",
        "\n",
        "config = aai.TranscriptionConfig(\n",
        "  summarization=True,\n",
        "  summary_model=aai.SummarizationModel.informative,\n",
        "  summary_type=aai.SummarizationType.bullets\n",
        ")\n",
        "\n",
        "transcript = aai.Transcriber().transcribe(audio_url, config)\n",
        "\n",
        "print(transcript.summary)"
      ],
      "metadata": {
        "id": "1t2isZQvnTfh"
      },
      "execution_count": null,
      "outputs": []
    },
    {
      "cell_type": "markdown",
      "source": [
        "Detaylı bilgi için : https://www.assemblyai.com/docs/audio-intelligence/sentiment-analysis   elimden geldiği kadarıyla örnek gösterdim. şuan 50$ a kadar ücretsiz bakiye veriyor. tavsiye ederim."
      ],
      "metadata": {
        "id": "o4_y_7Xunx6A"
      }
    },
    {
      "cell_type": "code",
      "source": [],
      "metadata": {
        "id": "koGBn6cfnzAV"
      },
      "execution_count": null,
      "outputs": []
    }
  ]
}